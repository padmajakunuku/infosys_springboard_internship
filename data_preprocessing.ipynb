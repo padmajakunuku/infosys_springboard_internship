{
  "nbformat": 4,
  "nbformat_minor": 0,
  "metadata": {
    "colab": {
      "provenance": [],
      "authorship_tag": "ABX9TyNgaPfzN0SQAzq/qd86H6O6",
      "include_colab_link": true
    },
    "kernelspec": {
      "name": "python3",
      "display_name": "Python 3"
    },
    "language_info": {
      "name": "python"
    }
  },
  "cells": [
    {
      "cell_type": "markdown",
      "metadata": {
        "id": "view-in-github",
        "colab_type": "text"
      },
      "source": [
        "<a href=\"https://colab.research.google.com/github/padmajakunuku/infosys_springboard_internship/blob/main/data_preprocessing.ipynb\" target=\"_parent\"><img src=\"https://colab.research.google.com/assets/colab-badge.svg\" alt=\"Open In Colab\"/></a>"
      ]
    },
    {
      "cell_type": "code",
      "execution_count": null,
      "metadata": {
        "colab": {
          "base_uri": "https://localhost:8080/"
        },
        "id": "EQSj_-JZKfN6",
        "outputId": "3393abc1-e2d7-4b92-8bed-675600aa7d2a"
      },
      "outputs": [
        {
          "output_type": "stream",
          "name": "stdout",
          "text": [
            "       Name        Education          Skill                    Certification  \\\n",
            "0  Person_1              BCA           HTML                Google IT Support   \n",
            "1  Person_2  BSc Mathematics  Data Analysis                              NaN   \n",
            "2  Person_3        BTech ECE            NaN   Embedded Systems Certification   \n",
            "3  Person_4      BTech Civil        AutoCAD  Autodesk Certified Professional   \n",
            "4  Person_5         BTech EE  Power Systems      Power Systems Certification   \n",
            "\n",
            "               Job Role  \n",
            "0    Software Developer  \n",
            "1         Mathematician  \n",
            "2  Electronics Engineer  \n",
            "3   Structural Engineer  \n",
            "4   Electrical Engineer  \n"
          ]
        }
      ],
      "source": [
        "import pandas as pd\n",
        "df = pd.read_csv('education_jobs_dataset_500.csv')\n",
        "print(df.head())\n",
        "\n"
      ]
    },
    {
      "cell_type": "code",
      "source": [
        "print(df.info())\n"
      ],
      "metadata": {
        "colab": {
          "base_uri": "https://localhost:8080/"
        },
        "id": "IIx_AW18LTow",
        "outputId": "a09c85dd-bc05-4225-f5cf-0423b62ae5c1"
      },
      "execution_count": null,
      "outputs": [
        {
          "output_type": "stream",
          "name": "stdout",
          "text": [
            "<class 'pandas.core.frame.DataFrame'>\n",
            "RangeIndex: 500 entries, 0 to 499\n",
            "Data columns (total 5 columns):\n",
            " #   Column         Non-Null Count  Dtype \n",
            "---  ------         --------------  ----- \n",
            " 0   Name           500 non-null    object\n",
            " 1   Education      500 non-null    object\n",
            " 2   Skill          397 non-null    object\n",
            " 3   Certification  358 non-null    object\n",
            " 4   Job Role       459 non-null    object\n",
            "dtypes: object(5)\n",
            "memory usage: 19.7+ KB\n",
            "None\n"
          ]
        }
      ]
    },
    {
      "cell_type": "code",
      "source": [
        "print(df.shape)\n"
      ],
      "metadata": {
        "colab": {
          "base_uri": "https://localhost:8080/"
        },
        "id": "LcAh--s3LXSX",
        "outputId": "0c8c7f11-1460-431e-ec2e-08fa17ed0eb7"
      },
      "execution_count": null,
      "outputs": [
        {
          "output_type": "stream",
          "name": "stdout",
          "text": [
            "(500, 5)\n"
          ]
        }
      ]
    },
    {
      "cell_type": "code",
      "source": [
        "print(df.describe())\n"
      ],
      "metadata": {
        "colab": {
          "base_uri": "https://localhost:8080/"
        },
        "id": "FU3cQ3bPLZ42",
        "outputId": "ebc32411-5d56-4ccb-d6de-1b60dcbfb9ed"
      },
      "execution_count": null,
      "outputs": [
        {
          "output_type": "stream",
          "name": "stdout",
          "text": [
            "              Name Education          Skill               Certification  \\\n",
            "count          500       500            397                         358   \n",
            "unique         500        10             32                          19   \n",
            "top     Person_500  BTech EE  Data Analysis  Data Analyst Certification   \n",
            "freq             1        61             45                          36   \n",
            "\n",
            "            Job Role  \n",
            "count            459  \n",
            "unique            26  \n",
            "top     Data Analyst  \n",
            "freq              48  \n"
          ]
        }
      ]
    },
    {
      "cell_type": "code",
      "source": [
        "print(df.isnull().sum())\n"
      ],
      "metadata": {
        "colab": {
          "base_uri": "https://localhost:8080/"
        },
        "id": "Qu0rJxlwLdQj",
        "outputId": "858f8aba-1029-4627-865e-6587df7bf5d6"
      },
      "execution_count": null,
      "outputs": [
        {
          "output_type": "stream",
          "name": "stdout",
          "text": [
            "Name               0\n",
            "Education          0\n",
            "Skill            103\n",
            "Certification    142\n",
            "Job Role          41\n",
            "dtype: int64\n"
          ]
        }
      ]
    },
    {
      "cell_type": "code",
      "source": [
        "print(df.duplicated().sum())"
      ],
      "metadata": {
        "colab": {
          "base_uri": "https://localhost:8080/"
        },
        "id": "AUdPVV1TLg-X",
        "outputId": "f8855d23-23bb-403f-eba6-a5e0e23cef1e"
      },
      "execution_count": null,
      "outputs": [
        {
          "output_type": "stream",
          "name": "stdout",
          "text": [
            "0\n"
          ]
        }
      ]
    },
    {
      "cell_type": "code",
      "source": [
        "#Step 2: Handling Missing Values\n",
        "for col in df.columns:\n",
        "    if df[col].dtype == \"object\":  # categorical → use mode\n",
        "        df[col] = df[col].fillna(df[col].mode()[0])\n",
        "    else:  # numeric → use mean\n",
        "        df[col] = df[col].fillna(df[col].mean())"
      ],
      "metadata": {
        "id": "PJ_R_37uLpQS"
      },
      "execution_count": null,
      "outputs": []
    },
    {
      "cell_type": "code",
      "source": [
        "#Step 3:Encoding Categorical Variables\n",
        "from sklearn.preprocessing import LabelEncoder\n",
        "\n",
        "label_encoders = {}\n",
        "for col in df.select_dtypes(include='object').columns:\n",
        "    le = LabelEncoder()\n",
        "    df[col] = le.fit_transform(df[col])\n",
        "    label_encoders[col] = le\n"
      ],
      "metadata": {
        "id": "NW5nI-8DL_T_"
      },
      "execution_count": null,
      "outputs": []
    },
    {
      "cell_type": "code",
      "source": [
        "#step 5:Feature selection/splitting\n",
        "from sklearn.preprocessing import LabelEncoder, OneHotEncoder\n",
        "# Drop Name (not useful)\n",
        "df = df.drop(columns=[\"Name\"])\n",
        "# Separate features and target\n",
        "X = df.drop(columns=[\"Job Role\"])\n",
        "y = df[\"Job Role\"]"
      ],
      "metadata": {
        "id": "W1UsMgjOMF3n"
      },
      "execution_count": null,
      "outputs": []
    },
    {
      "cell_type": "code",
      "source": [
        "# Label encode target\n",
        "le_target = LabelEncoder()\n",
        "y_encoded = le_target.fit_transform(y)"
      ],
      "metadata": {
        "id": "spvtc5xqOw2q"
      },
      "execution_count": null,
      "outputs": []
    },
    {
      "cell_type": "code",
      "source": [
        "from sklearn.preprocessing import LabelEncoder\n",
        "\n",
        "# Make a copy of X to avoid changing original\n",
        "X_encoded = X.copy()\n",
        "\n",
        "label_encoders = {}\n",
        "for col in [\"Skill\", \"Certification\"]:\n",
        "    le = LabelEncoder()\n",
        "    X_encoded[col] = le.fit_transform(X_encoded[col].astype(str))\n",
        "    label_encoders[col] = le\n",
        "\n",
        "# Now X_encoded has the encoded features\n",
        "print(X_encoded.head())\n"
      ],
      "metadata": {
        "colab": {
          "base_uri": "https://localhost:8080/"
        },
        "id": "hhhrb6hyO2Qf",
        "outputId": "ab40ceca-f524-47b7-a037-49492713778e"
      },
      "execution_count": null,
      "outputs": [
        {
          "output_type": "stream",
          "name": "stdout",
          "text": [
            "   Education  Skill  Certification\n",
            "0  -1.655592      5             11\n",
            "1  -0.946255      7              1\n",
            "2   0.827087      7              9\n",
            "3   0.472418     11              5\n",
            "4   1.181755     14             15\n"
          ]
        }
      ]
    },
    {
      "cell_type": "code",
      "source": [
        "#Step 4: Feature Scaling / Normalization\n",
        "from sklearn.preprocessing import StandardScaler\n",
        "\n",
        "scaler = StandardScaler()\n",
        "numeric_cols = df.select_dtypes(include=['int64', 'float64']).columns\n",
        "df[numeric_cols] = scaler.fit_transform(df[numeric_cols])\n"
      ],
      "metadata": {
        "id": "rqJ-T362f23F"
      },
      "execution_count": null,
      "outputs": []
    },
    {
      "cell_type": "code",
      "source": [
        "#Step 6: Train-Test Split\n",
        "from sklearn.model_selection import train_test_split\n",
        "\n",
        "X_train, X_test, y_train, y_test = train_test_split(\n",
        "    X, y, test_size=0.2, random_state=42)"
      ],
      "metadata": {
        "id": "kXtCbyZxtJ3q"
      },
      "execution_count": 24,
      "outputs": []
    }
  ]
}